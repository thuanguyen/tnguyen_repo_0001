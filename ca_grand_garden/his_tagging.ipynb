{
 "cells": [
  {
   "cell_type": "markdown",
   "id": "6fda4c0c-992d-4e78-8280-f29104a21453",
   "metadata": {},
   "source": [
    "# add his-tag"
   ]
  },
  {
   "cell_type": "code",
   "execution_count": 3,
   "id": "f5c68590-557c-45c9-b1e3-01d1ff2c5743",
   "metadata": {},
   "outputs": [
    {
     "name": "stdout",
     "output_type": "stream",
     "text": [
      "Modified sequences written to /home6/tvnguye4/google_cloud/ca_grand_garden/halo_mutants/pdb_full_sequence_his_tagged/modified_1V9E.fasta\n",
      "Modified sequences written to /home6/tvnguye4/google_cloud/ca_grand_garden/halo_mutants/pdb_full_sequence_his_tagged/modified_4CNR.fasta\n",
      "Modified sequences written to /home6/tvnguye4/google_cloud/ca_grand_garden/halo_mutants/pdb_full_sequence_his_tagged/modified_4CNW.fasta\n",
      "Modified sequences written to /home6/tvnguye4/google_cloud/ca_grand_garden/halo_mutants/pdb_full_sequence_his_tagged/modified_4CNV.fasta\n",
      "Modified sequences written to /home6/tvnguye4/google_cloud/ca_grand_garden/halo_mutants/pdb_full_sequence_his_tagged/modified_4CNX.fasta\n"
     ]
    }
   ],
   "source": [
    "import os\n",
    "from Bio import SeqIO\n",
    "\n",
    "def modify_fasta(input_directory, output_directory):\n",
    "    # Ensure the output directory exists, create if it does not\n",
    "    if not os.path.exists(output_directory):\n",
    "        os.makedirs(output_directory)\n",
    "\n",
    "    # Loop through each file in the input directory\n",
    "    for filename in os.listdir(input_directory):\n",
    "        if filename.endswith(\".fasta\") or filename.endswith(\".fa\"):\n",
    "            file_path = os.path.join(input_directory, filename)\n",
    "            records = list(SeqIO.parse(file_path, \"fasta\"))\n",
    "            modified_records = []\n",
    "\n",
    "            # Substitute the first 3 amino acids in each sequence\n",
    "            for record in records:\n",
    "                new_seq = \"MGSSHHHHHHSSGLVPRGSHMAEV\" + record.seq[3:]\n",
    "                record.seq = new_seq\n",
    "                modified_records.append(record)\n",
    "\n",
    "            # Write the modified sequences to a new file in the output directory\n",
    "            new_file_path = os.path.join(output_directory, \"modified_\" + filename)\n",
    "            SeqIO.write(modified_records, new_file_path, \"fasta\")\n",
    "\n",
    "            print(f\"Modified sequences written to {new_file_path}\")\n",
    "\n",
    "# Specify the directories\n",
    "input_directory = \"/home6/tvnguye4/google_cloud/ca_grand_garden/halo_mutants/pdb_full_sequence\"\n",
    "output_directory = \"/home6/tvnguye4/google_cloud/ca_grand_garden/halo_mutants/pdb_full_sequence_his_tagged\"  # Update this to your desired output directory\n",
    "\n",
    "modify_fasta(input_directory, output_directory)\n"
   ]
  },
  {
   "cell_type": "code",
   "execution_count": null,
   "id": "96d37391-7c9e-424d-a730-8b5dcdcc9cbd",
   "metadata": {},
   "outputs": [],
   "source": []
  }
 ],
 "metadata": {
  "kernelspec": {
   "display_name": "Python 3 (ipykernel)",
   "language": "python",
   "name": "python3"
  },
  "language_info": {
   "codemirror_mode": {
    "name": "ipython",
    "version": 3
   },
   "file_extension": ".py",
   "mimetype": "text/x-python",
   "name": "python",
   "nbconvert_exporter": "python",
   "pygments_lexer": "ipython3",
   "version": "3.12.3"
  }
 },
 "nbformat": 4,
 "nbformat_minor": 5
}
