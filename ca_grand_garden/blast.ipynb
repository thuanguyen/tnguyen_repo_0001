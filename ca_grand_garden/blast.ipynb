{
 "cells": [
  {
   "cell_type": "code",
   "execution_count": 3,
   "id": "b60feb1c-3d23-4aa8-aaa2-578479de7961",
   "metadata": {},
   "outputs": [
    {
     "name": "stdout",
     "output_type": "stream",
     "text": [
      "\n",
      "\n",
      "Building a new DB, current time: 04/22/2024 15:32:45\n",
      "New DB name:   /home6/tvnguye4/google_cloud/ca_grand_garden/halo_mutants/blast_db/blast_db\n",
      "New DB title:  /home6/tvnguye4/google_cloud/ca_grand_garden/halo_mutants/blast_db/combined_sequences.fasta\n",
      "Sequence type: Protein\n",
      "Keep MBits: T\n",
      "Maximum file size: 3000000000B\n",
      "Adding sequences from FASTA; added 4 sequences in 0.00598502 seconds.\n",
      "\n",
      "\n",
      "Local BLAST searches completed.\n"
     ]
    }
   ],
   "source": [
    "import os\n",
    "import subprocess\n",
    "\n",
    "# Directories\n",
    "fasta_directory = '/home6/tvnguye4/google_cloud/ca_grand_garden/halo_mutants/pdb_full_sequence'\n",
    "blast_db_dir = '/home6/tvnguye4/google_cloud/ca_grand_garden/halo_mutants/blast_db'\n",
    "results_directory = '/home6/tvnguye4/google_cloud/ca_grand_garden/halo_mutants/blast_results'\n",
    "\n",
    "# Ensure directories exist\n",
    "os.makedirs(blast_db_dir, exist_ok=True)\n",
    "os.makedirs(results_directory, exist_ok=True)\n",
    "\n",
    "# Combine all FASTA files into one for database creation\n",
    "combined_fasta = os.path.join(blast_db_dir, 'combined_sequences.fasta')\n",
    "with open(combined_fasta, 'w') as outfile:\n",
    "    for filename in os.listdir(fasta_directory):\n",
    "        if filename.endswith(\".fasta\"):\n",
    "            with open(os.path.join(fasta_directory, filename), 'r') as readfile:\n",
    "                outfile.write(readfile.read())\n",
    "\n",
    "# Create BLAST database\n",
    "subprocess.run(['makeblastdb', '-in', combined_fasta, '-dbtype', 'prot', '-out', os.path.join(blast_db_dir, 'blast_db')])\n",
    "\n",
    "# Perform BLAST for each sequence against the created database\n",
    "for filename in os.listdir(fasta_directory):\n",
    "    if filename.endswith(\".fasta\"):\n",
    "        fasta_path = os.path.join(fasta_directory, filename)\n",
    "        output_file = os.path.join(results_directory, filename.replace(\".fasta\", \"_blast.xml\"))\n",
    "        subprocess.run([\n",
    "            'blastp',\n",
    "            '-query', fasta_path,\n",
    "            '-db', os.path.join(blast_db_dir, 'blast_db'),\n",
    "            '-out', output_file,\n",
    "            '-outfmt', '5'  # XML format\n",
    "        ])\n",
    "\n",
    "print(\"Local BLAST searches completed.\")\n"
   ]
  }
 ],
 "metadata": {
  "kernelspec": {
   "display_name": "Python 3 (ipykernel)",
   "language": "python",
   "name": "python3"
  },
  "language_info": {
   "codemirror_mode": {
    "name": "ipython",
    "version": 3
   },
   "file_extension": ".py",
   "mimetype": "text/x-python",
   "name": "python",
   "nbconvert_exporter": "python",
   "pygments_lexer": "ipython3",
   "version": "3.12.3"
  }
 },
 "nbformat": 4,
 "nbformat_minor": 5
}
