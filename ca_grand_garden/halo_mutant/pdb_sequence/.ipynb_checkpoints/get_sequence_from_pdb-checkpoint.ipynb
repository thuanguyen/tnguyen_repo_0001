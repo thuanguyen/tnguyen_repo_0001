{
 "cells": [
  {
   "cell_type": "code",
   "execution_count": 1,
   "id": "b34c686e-f390-4506-b0bb-b1f4513fb277",
   "metadata": {},
   "outputs": [
    {
     "name": "stdout",
     "output_type": "stream",
     "text": [
      "# conda environments:\n",
      "#\n",
      "base                     /home6/tvnguye4/miniconda3\n",
      "tvnEnv0003_colabfold     /home6/tvnguye4/miniconda3/envs/tvnEnv0003_colabfold\n",
      "tvnEnv0005_cobra         /home6/tvnguye4/miniconda3/envs/tvnEnv0005_cobra\n",
      "tvnEnv0006_genAna     *  /home6/tvnguye4/miniconda3/envs/tvnEnv0006_genAna\n",
      "\n"
     ]
    }
   ],
   "source": [
    "!conda env list"
   ]
  },
  {
   "cell_type": "code",
   "execution_count": null,
   "id": "43ab716f-a628-46e7-b9fd-0f74176bf5b7",
   "metadata": {},
   "outputs": [],
   "source": [
    "from Bio.PDB import PDBParser, PDBList, is_aa\n",
    "from Bio.SeqUtils import seq1\n",
    "import os\n",
    "import shutil\n",
    "\n",
    "# List of PDB codes to retrieve\n",
    "pdb_codes = [\"4CNR\", \"4CNV\", \"4CNW\", \"4CNX\"]\n",
    "\n",
    "# Initialize PDB parser\n",
    "parser = PDBParser()\n",
    "\n",
    "# Initialize PDBList for downloading PDB files\n",
    "pdb_list = PDBList()\n",
    "\n",
    "# Directory to store the final FASTA files\n",
    "fasta_directory = '/home6/tvnguye4/google_cloud/ca_grand_garden/halo_mutants/pdb_sequence'\n",
    "os.makedirs(fasta_directory, exist_ok=True)\n",
    "\n",
    "# Folder to store temporary PDB files\n",
    "pdb_folder = 'pdb_files'\n",
    "os.makedirs(pdb_folder, exist_ok=True)\n",
    "\n",
    "for pdb_code in pdb_codes:\n",
    "    # Retrieve PDB file\n",
    "    file_path = pdb_list.retrieve_pdb_file(pdb_code, pdir=pdb_folder, file_format='pdb')\n",
    "    \n",
    "    # Parse the structure from file\n",
    "    structure = parser.get_structure(pdb_code, file_path)\n",
    "    \n",
    "    # Loop through each model, chain, and residue to extract the sequence\n",
    "    for model in structure:\n",
    "        for chain in model:\n",
    "            sequence = []\n",
    "            chain_id = chain.id\n",
    "            for residue in chain:\n",
    "                if is_aa(residue, standard=True):\n",
    "                    sequence.append(seq1(residue.resname))\n",
    "            \n",
    "            # File to store the protein sequence in FASTA format for each chain\n",
    "            fasta_filename = os.path.join(fasta_directory, f\"{pdb_code}_chain_{chain_id}.fasta\")\n",
    "            \n",
    "            with open(fasta_filename, 'w') as fasta_file:\n",
    "                # Write to FASTA file\n",
    "                fasta_file.write(f\">PDB:{pdb_code} Chain:{chain_id}\\n{''.join(sequence)}\\n\")\n",
    "\n",
    "# Optionally, remove the temporary PDB files directory if not needed\n",
    "shutil.rmtree(pdb_folder)\n"
   ]
  }
 ],
 "metadata": {
  "kernelspec": {
   "display_name": "Python 3 (ipykernel)",
   "language": "python",
   "name": "python3"
  },
  "language_info": {
   "codemirror_mode": {
    "name": "ipython",
    "version": 3
   },
   "file_extension": ".py",
   "mimetype": "text/x-python",
   "name": "python",
   "nbconvert_exporter": "python",
   "pygments_lexer": "ipython3",
   "version": "3.12.3"
  }
 },
 "nbformat": 4,
 "nbformat_minor": 5
}
