{
 "cells": [
  {
   "cell_type": "code",
   "execution_count": 1,
   "id": "2f5c1209-54d7-4bca-9d3c-3f2458286c9f",
   "metadata": {},
   "outputs": [
    {
     "name": "stdout",
     "output_type": "stream",
     "text": [
      "# conda environments:\n",
      "#\n",
      "base                     /home6/tvnguye4/miniconda3\n",
      "tvnEnv0003_colabfold     /home6/tvnguye4/miniconda3/envs/tvnEnv0003_colabfold\n",
      "tvnEnv0005_cobra         /home6/tvnguye4/miniconda3/envs/tvnEnv0005_cobra\n",
      "tvnEnv0006_genAna     *  /home6/tvnguye4/miniconda3/envs/tvnEnv0006_genAna\n",
      "\n"
     ]
    }
   ],
   "source": [
    "!conda env list"
   ]
  },
  {
   "cell_type": "markdown",
   "id": "0861e572-0029-47b1-8d27-1fd957bef594",
   "metadata": {},
   "source": [
    "# load modeled sequences from PDB"
   ]
  },
  {
   "cell_type": "code",
   "execution_count": 5,
   "id": "5186de42-eeba-4ecc-93b7-c5989be8e43f",
   "metadata": {},
   "outputs": [
    {
     "name": "stdout",
     "output_type": "stream",
     "text": [
      "Downloading PDB structure '4cnr'...\n"
     ]
    },
    {
     "name": "stderr",
     "output_type": "stream",
     "text": [
      "/home6/tvnguye4/miniconda3/envs/tvnEnv0006_genAna/lib/python3.12/site-packages/Bio/PDB/StructureBuilder.py:89: PDBConstructionWarning: WARNING: Chain A is discontinuous at line 8984.\n",
      "  warnings.warn(\n",
      "/home6/tvnguye4/miniconda3/envs/tvnEnv0006_genAna/lib/python3.12/site-packages/Bio/PDB/StructureBuilder.py:89: PDBConstructionWarning: WARNING: Chain B is discontinuous at line 8985.\n",
      "  warnings.warn(\n",
      "/home6/tvnguye4/miniconda3/envs/tvnEnv0006_genAna/lib/python3.12/site-packages/Bio/PDB/StructureBuilder.py:89: PDBConstructionWarning: WARNING: Chain C is discontinuous at line 8986.\n",
      "  warnings.warn(\n",
      "/home6/tvnguye4/miniconda3/envs/tvnEnv0006_genAna/lib/python3.12/site-packages/Bio/PDB/StructureBuilder.py:89: PDBConstructionWarning: WARNING: Chain D is discontinuous at line 8987.\n",
      "  warnings.warn(\n",
      "/home6/tvnguye4/miniconda3/envs/tvnEnv0006_genAna/lib/python3.12/site-packages/Bio/PDB/StructureBuilder.py:89: PDBConstructionWarning: WARNING: Chain A is discontinuous at line 8988.\n",
      "  warnings.warn(\n",
      "/home6/tvnguye4/miniconda3/envs/tvnEnv0006_genAna/lib/python3.12/site-packages/Bio/PDB/StructureBuilder.py:89: PDBConstructionWarning: WARNING: Chain B is discontinuous at line 9043.\n",
      "  warnings.warn(\n",
      "/home6/tvnguye4/miniconda3/envs/tvnEnv0006_genAna/lib/python3.12/site-packages/Bio/PDB/StructureBuilder.py:89: PDBConstructionWarning: WARNING: Chain C is discontinuous at line 9136.\n",
      "  warnings.warn(\n",
      "/home6/tvnguye4/miniconda3/envs/tvnEnv0006_genAna/lib/python3.12/site-packages/Bio/PDB/StructureBuilder.py:89: PDBConstructionWarning: WARNING: Chain D is discontinuous at line 9203.\n",
      "  warnings.warn(\n"
     ]
    },
    {
     "name": "stdout",
     "output_type": "stream",
     "text": [
      "Downloading PDB structure '4cnv'...\n",
      "Downloading PDB structure '4cnw'...\n"
     ]
    },
    {
     "name": "stderr",
     "output_type": "stream",
     "text": [
      "/home6/tvnguye4/miniconda3/envs/tvnEnv0006_genAna/lib/python3.12/site-packages/Bio/PDB/StructureBuilder.py:89: PDBConstructionWarning: WARNING: Chain A is discontinuous at line 4722.\n",
      "  warnings.warn(\n",
      "/home6/tvnguye4/miniconda3/envs/tvnEnv0006_genAna/lib/python3.12/site-packages/Bio/PDB/StructureBuilder.py:89: PDBConstructionWarning: WARNING: Chain B is discontinuous at line 4723.\n",
      "  warnings.warn(\n",
      "/home6/tvnguye4/miniconda3/envs/tvnEnv0006_genAna/lib/python3.12/site-packages/Bio/PDB/StructureBuilder.py:89: PDBConstructionWarning: WARNING: Chain A is discontinuous at line 4725.\n",
      "  warnings.warn(\n",
      "/home6/tvnguye4/miniconda3/envs/tvnEnv0006_genAna/lib/python3.12/site-packages/Bio/PDB/StructureBuilder.py:89: PDBConstructionWarning: WARNING: Chain B is discontinuous at line 4860.\n",
      "  warnings.warn(\n"
     ]
    },
    {
     "name": "stdout",
     "output_type": "stream",
     "text": [
      "Downloading PDB structure '4cnx'...\n"
     ]
    }
   ],
   "source": [
    "from Bio.PDB import PDBParser, PDBList, is_aa\n",
    "from Bio.SeqUtils import seq1\n",
    "import os\n",
    "import shutil\n",
    "\n",
    "# List of PDB codes to retrieve\n",
    "pdb_codes = [\"4CNR\", \"4CNV\", \"4CNW\", \"4CNX\"]\n",
    "\n",
    "# Initialize PDB parser\n",
    "parser = PDBParser()\n",
    "\n",
    "# Initialize PDBList for downloading PDB files\n",
    "pdb_list = PDBList()\n",
    "\n",
    "# Directory to store the final FASTA files\n",
    "fasta_directory = '/home6/tvnguye4/google_cloud/ca_grand_garden/halo_mutants/pdb_sequence'\n",
    "os.makedirs(fasta_directory, exist_ok=True)\n",
    "\n",
    "# Folder to store temporary PDB files\n",
    "pdb_folder = 'pdb_files'\n",
    "os.makedirs(pdb_folder, exist_ok=True)\n",
    "\n",
    "for pdb_code in pdb_codes:\n",
    "    # Retrieve PDB file\n",
    "    file_path = pdb_list.retrieve_pdb_file(pdb_code, pdir=pdb_folder, file_format='pdb')\n",
    "    \n",
    "    # Parse the structure from file\n",
    "    structure = parser.get_structure(pdb_code, file_path)\n",
    "    \n",
    "    # Loop through each model, chain, and residue to extract the sequence\n",
    "    for model in structure:\n",
    "        for chain in model:\n",
    "            sequence = []\n",
    "            chain_id = chain.id\n",
    "            for residue in chain:\n",
    "                if is_aa(residue, standard=True):\n",
    "                    sequence.append(seq1(residue.resname))\n",
    "            \n",
    "            # File to store the protein sequence in FASTA format for each chain\n",
    "            fasta_filename = os.path.join(fasta_directory, f\"{pdb_code}_chain_{chain_id}.fasta\")\n",
    "            \n",
    "            with open(fasta_filename, 'w') as fasta_file:\n",
    "                # Write to FASTA file\n",
    "                fasta_file.write(f\">PDB:{pdb_code} Chain:{chain_id}\\n{''.join(sequence)}\\n\")\n",
    "\n",
    "# Optionally, remove the temporary PDB files directory if not needed\n",
    "shutil.rmtree(pdb_folder)\n"
   ]
  },
  {
   "cell_type": "markdown",
   "id": "fa0f5537-cb61-4d29-83b6-4ca51b8f1be9",
   "metadata": {},
   "source": [
    "# import full protein sequence"
   ]
  },
  {
   "cell_type": "code",
   "execution_count": 6,
   "id": "572b9c1c-d841-498d-a81e-a85b4cf7b127",
   "metadata": {},
   "outputs": [],
   "source": [
    "import requests\n",
    "import os\n",
    "\n",
    "# List of PDB codes to retrieve\n",
    "pdb_codes = [\"4CNR\", \"4CNV\", \"4CNW\", \"4CNX\"]\n",
    "\n",
    "# Directory to store the final FASTA files\n",
    "fasta_directory = '/home6/tvnguye4/google_cloud/ca_grand_garden/halo_mutants/pdb_full_sequence'\n",
    "os.makedirs(fasta_directory, exist_ok=True)\n",
    "\n",
    "# Base URL for RCSB PDB API to get FASTA sequences\n",
    "base_url = \"https://www.rcsb.org/fasta/entry/\"\n",
    "\n",
    "for pdb_code in pdb_codes:\n",
    "    # Make an API request to get sequence data in FASTA format\n",
    "    response = requests.get(base_url + pdb_code)\n",
    "    if response.status_code == 200:\n",
    "        fasta_text = response.text\n",
    "        # Save the retrieved FASTA text into a file directly\n",
    "        fasta_filename = os.path.join(fasta_directory, f\"{pdb_code}.fasta\")\n",
    "        with open(fasta_filename, 'w') as fasta_file:\n",
    "            fasta_file.write(fasta_text)\n",
    "    else:\n",
    "        print(f\"Failed to retrieve FASTA for PDB code {pdb_code}. Status code: {response.status_code}\")\n"
   ]
  }
 ],
 "metadata": {
  "kernelspec": {
   "display_name": "Python 3 (ipykernel)",
   "language": "python",
   "name": "python3"
  },
  "language_info": {
   "codemirror_mode": {
    "name": "ipython",
    "version": 3
   },
   "file_extension": ".py",
   "mimetype": "text/x-python",
   "name": "python",
   "nbconvert_exporter": "python",
   "pygments_lexer": "ipython3",
   "version": "3.12.3"
  }
 },
 "nbformat": 4,
 "nbformat_minor": 5
}
