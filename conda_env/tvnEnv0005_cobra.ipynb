{
 "cells": [
  {
   "cell_type": "markdown",
   "id": "8f8d702a-734c-4b18-8ecf-8edcba64e0fa",
   "metadata": {},
   "source": [
    "# check environment"
   ]
  },
  {
   "cell_type": "code",
   "execution_count": 3,
   "id": "1e1967f7-d261-4157-b544-2d2b2bc0a9f8",
   "metadata": {
    "tags": []
   },
   "outputs": [
    {
     "name": "stdout",
     "output_type": "stream",
     "text": [
      "# conda environments:\n",
      "#\n",
      "base                     /opt/conda\n",
      "jupyterlab               /opt/conda/envs/jupyterlab\n",
      "pytorch                  /opt/conda/envs/pytorch\n",
      "tensorflow               /opt/conda/envs/tensorflow\n",
      "tvnEnv0005_cobra      *  /opt/conda/envs/tvnEnv0005_cobra\n",
      "\n",
      "/home/jupyter/google_cloud/conda_env\n"
     ]
    }
   ],
   "source": [
    "import subprocess\n",
    "\n",
    "# Command to list conda environments\n",
    "conda_env_command = [\"conda\", \"env\", \"list\"]\n",
    "\n",
    "# Command to print current directory\n",
    "pwd_command = [\"pwd\"]\n",
    "\n",
    "# Execute the commands\n",
    "try:\n",
    "    # Run the command to list conda environments\n",
    "    subprocess.run(conda_env_command, check=True)\n",
    "\n",
    "    # Run the command to print current directory\n",
    "    subprocess.run(pwd_command, check=True)\n",
    "except subprocess.CalledProcessError as e:\n",
    "    print(\"An error occurred while executing the command:\", e)\n"
   ]
  },
  {
   "cell_type": "code",
   "execution_count": null,
   "id": "a094fd59-6265-4ce8-9c24-e6a468e43623",
   "metadata": {},
   "outputs": [],
   "source": []
  }
 ],
 "metadata": {
  "environment": {
   "kernel": "conda-env-tvnEnv0005_cobra-py",
   "name": "workbench-notebooks.m119",
   "type": "gcloud",
   "uri": "us-docker.pkg.dev/deeplearning-platform-release/gcr.io/workbench-notebooks:m119"
  },
  "kernelspec": {
   "display_name": "Python 3 (ipykernel)",
   "language": "python",
   "name": "python3"
  },
  "language_info": {
   "codemirror_mode": {
    "name": "ipython",
    "version": 3
   },
   "file_extension": ".py",
   "mimetype": "text/x-python",
   "name": "python",
   "nbconvert_exporter": "python",
   "pygments_lexer": "ipython3",
   "version": "3.12.3"
  }
 },
 "nbformat": 4,
 "nbformat_minor": 5
}
