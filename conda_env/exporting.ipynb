{
 "cells": [
  {
   "cell_type": "markdown",
   "id": "9e283fa4-7a5b-493b-831f-cd3da652607d",
   "metadata": {},
   "source": [
    "# check environment"
   ]
  },
  {
   "cell_type": "code",
   "execution_count": 1,
   "id": "4d09420f-4820-438f-93b2-fb7d6c1c2dc2",
   "metadata": {
    "tags": []
   },
   "outputs": [
    {
     "name": "stdout",
     "output_type": "stream",
     "text": [
      "# conda environments:\n",
      "#\n",
      "base                     /usr/local/apps/miniconda20230831\n",
      "                      *  /usr/local/usrapps/probioticengring/tvnguyen/conda/envs/tvnEnv0003_colabfold\n",
      "\n",
      "/gpfs_common/share02/probioticengring/tvnguye4/google_cloud/conda_env\n"
     ]
    }
   ],
   "source": [
    "import subprocess\n",
    "\n",
    "# Command to list conda environments\n",
    "conda_env_command = [\"conda\", \"env\", \"list\"]\n",
    "\n",
    "# Command to print current directory\n",
    "pwd_command = [\"pwd\"]\n",
    "\n",
    "# Execute the commands\n",
    "try:\n",
    "    # Run the command to list conda environments\n",
    "    subprocess.run(conda_env_command, check=True)\n",
    "\n",
    "    # Run the command to print current directory\n",
    "    subprocess.run(pwd_command, check=True)\n",
    "except subprocess.CalledProcessError as e:\n",
    "    print(\"An error occurred while executing the command:\", e)\n"
   ]
  },
  {
   "cell_type": "markdown",
   "id": "d9499dc7-3339-4e58-a30b-546478a3a739",
   "metadata": {},
   "source": [
    "# export"
   ]
  },
  {
   "cell_type": "markdown",
   "id": "ebe51a1b-4ece-4e2c-b21c-352ebf65ee63",
   "metadata": {},
   "source": [
    "## prolig_0001"
   ]
  },
  {
   "cell_type": "code",
   "execution_count": 8,
   "id": "b8ffa2ba-5831-4dca-8b2c-ce292710d81d",
   "metadata": {
    "tags": []
   },
   "outputs": [
    {
     "name": "stdout",
     "output_type": "stream",
     "text": [
      "Environment base exported successfully to base.yml.\n"
     ]
    }
   ],
   "source": [
    "import subprocess\n",
    "\n",
    "# List of environments you want to export\n",
    "environments = [\n",
    "                \"prolig_0001\"\n",
    "               ]\n",
    "\n",
    "for env_name in environments:\n",
    "    # Filename for the exported environment\n",
    "    filename = f\"{env_name}.yml\"\n",
    "    \n",
    "    # Command to export the environment without activating it\n",
    "    command = [\"conda\", \"env\", \"export\", \"--name\", env_name, \"--file\", filename]\n",
    "    \n",
    "    # Execute the command\n",
    "    result = subprocess.run(command, stdout=subprocess.PIPE, stderr=subprocess.PIPE)\n",
    "    \n",
    "    # Check if the command was executed successfully\n",
    "    if result.returncode == 0:\n",
    "        print(f\"Environment {env_name} exported successfully to {filename}.\")\n",
    "    else:\n",
    "        print(f\"Error exporting environment {env_name}:\")\n",
    "        # Print the error message from stderr\n",
    "        print(result.stderr.decode('utf-8'))\n"
   ]
  },
  {
   "cell_type": "markdown",
   "id": "485829ce-a314-4669-9571-a527aa4dac91",
   "metadata": {},
   "source": [
    "## tvnEnv0002_modeller"
   ]
  },
  {
   "cell_type": "code",
   "execution_count": 12,
   "id": "99eafcbf-2d20-483d-8348-e44dbb893467",
   "metadata": {
    "tags": []
   },
   "outputs": [
    {
     "name": "stdout",
     "output_type": "stream",
     "text": [
      "Environment prolig_0001 exported successfully to prolig_0001.yml.\n",
      "Environment tvnEnv0002_modeller exported successfully to tvnEnv0002_modeller.yml.\n",
      "Environment tvnEnv0003_colabfold exported successfully to tvnEnv0003_colabfold.yml.\n"
     ]
    }
   ],
   "source": [
    "import subprocess\n",
    "\n",
    "# List of environments you want to export\n",
    "environments = [\n",
    "                \"tvnEnv0002_modeller\"\n",
    "               ]\n",
    "\n",
    "for env_name in environments:\n",
    "    # Filename for the exported environment\n",
    "    filename = f\"{env_name}.yml\"\n",
    "    \n",
    "    # Command to export the environment without activating it\n",
    "    command = [\"conda\", \"env\", \"export\", \"--name\", env_name, \"--file\", filename]\n",
    "    \n",
    "    # Execute the command\n",
    "    result = subprocess.run(command, stdout=subprocess.PIPE, stderr=subprocess.PIPE)\n",
    "    \n",
    "    # Check if the command was executed successfully\n",
    "    if result.returncode == 0:\n",
    "        print(f\"Environment {env_name} exported successfully to {filename}.\")\n",
    "    else:\n",
    "        print(f\"Error exporting environment {env_name}:\")\n",
    "        # Print the error message from stderr\n",
    "        print(result.stderr.decode('utf-8'))\n"
   ]
  },
  {
   "cell_type": "markdown",
   "id": "7c9ecf2a-57b2-4690-b167-4657d426392d",
   "metadata": {},
   "source": [
    "## tvnEnv0003_colabfold"
   ]
  },
  {
   "cell_type": "code",
   "execution_count": 3,
   "id": "9e6a1d25-69f1-46b0-af41-015fe73168e3",
   "metadata": {
    "tags": []
   },
   "outputs": [
    {
     "name": "stdout",
     "output_type": "stream",
     "text": [
      "Environment /usr/local/usrapps/probioticengring/tvnguyen/conda/envs/tvnEnv0003_colabfold exported successfully to /usr/local/usrapps/probioticengring/tvnguyen/conda/envs/tvnEnv0003_colabfold.yml.\n"
     ]
    }
   ],
   "source": [
    "import subprocess\n",
    "\n",
    "# List of environments you want to export\n",
    "environments = [\n",
    "                \"/usr/local/usrapps/probioticengring/tvnguyen/conda/envs/tvnEnv0003_colabfold\"\n",
    "               ]\n",
    "\n",
    "for env_name in environments:\n",
    "    # Filename for the exported environment\n",
    "    filename = f\"{env_name}.yml\"\n",
    "    \n",
    "    # Command to export the environment without activating it\n",
    "    command = [\"conda\", \"env\", \"export\", \"--name\", \"tvnEnv0003_colabfold\", \"--file\", filename]\n",
    "    \n",
    "    # Execute the command\n",
    "    result = subprocess.run(command, stdout=subprocess.PIPE, stderr=subprocess.PIPE)\n",
    "    \n",
    "    # Check if the command was executed successfully\n",
    "    if result.returncode == 0:\n",
    "        print(f\"Environment {env_name} exported successfully to {filename}.\")\n",
    "    else:\n",
    "        print(f\"Error exporting environment {env_name}:\")\n",
    "        # Print the error message from stderr\n",
    "        print(result.stderr.decode('utf-8'))\n"
   ]
  },
  {
   "cell_type": "markdown",
   "id": "287b19c6-4dc8-4cf7-9aeb-50c9b54c9127",
   "metadata": {},
   "source": [
    "## tvnEnv0004_rosettaFoldAa"
   ]
  },
  {
   "cell_type": "code",
   "execution_count": 1,
   "id": "815761d5-7a14-49b8-8394-d30e6263976b",
   "metadata": {
    "tags": []
   },
   "outputs": [
    {
     "name": "stdout",
     "output_type": "stream",
     "text": [
      "Environment tvnEnv0004_rosettaFoldAa exported successfully to tvnEnv0004_rosettaFoldAa.yml.\n"
     ]
    }
   ],
   "source": [
    "import subprocess\n",
    "\n",
    "# List of environments you want to export\n",
    "environments = [\n",
    "                \"tvnEnv0004_rosettaFoldAa\"\n",
    "               ]\n",
    "\n",
    "for env_name in environments:\n",
    "    # Filename for the exported environment\n",
    "    filename = f\"{env_name}.yml\"\n",
    "    \n",
    "    # Command to export the environment without activating it\n",
    "    command = [\"conda\", \"env\", \"export\", \"--name\", env_name, \"--file\", filename]\n",
    "    \n",
    "    # Execute the command\n",
    "    result = subprocess.run(command, stdout=subprocess.PIPE, stderr=subprocess.PIPE)\n",
    "    \n",
    "    # Check if the command was executed successfully\n",
    "    if result.returncode == 0:\n",
    "        print(f\"Environment {env_name} exported successfully to {filename}.\")\n",
    "    else:\n",
    "        print(f\"Error exporting environment {env_name}:\")\n",
    "        # Print the error message from stderr\n",
    "        print(result.stderr.decode('utf-8'))\n"
   ]
  },
  {
   "cell_type": "markdown",
   "id": "15332325-b206-4b7a-b470-f7042f54fab0",
   "metadata": {},
   "source": [
    "## tvnEnv0005_cobra"
   ]
  },
  {
   "cell_type": "code",
   "execution_count": 2,
   "id": "ceaf4fd9-5f75-402a-9bae-d30317463f8c",
   "metadata": {
    "tags": []
   },
   "outputs": [
    {
     "name": "stdout",
     "output_type": "stream",
     "text": [
      "Environment tvnEnv0005_cobra exported successfully to tvnEnv0005_cobra.yml.\n"
     ]
    }
   ],
   "source": [
    "import subprocess\n",
    "\n",
    "# List of environments you want to export\n",
    "environments = [\n",
    "                \"tvnEnv0005_cobra\"\n",
    "               ]\n",
    "\n",
    "for env_name in environments:\n",
    "    # Filename for the exported environment\n",
    "    filename = f\"{env_name}.yml\"\n",
    "    \n",
    "    # Command to export the environment without activating it\n",
    "    command = [\"conda\", \"env\", \"export\", \"--name\", env_name, \"--file\", filename]\n",
    "    \n",
    "    # Execute the command\n",
    "    result = subprocess.run(command, stdout=subprocess.PIPE, stderr=subprocess.PIPE)\n",
    "    \n",
    "    # Check if the command was executed successfully\n",
    "    if result.returncode == 0:\n",
    "        print(f\"Environment {env_name} exported successfully to {filename}.\")\n",
    "    else:\n",
    "        print(f\"Error exporting environment {env_name}:\")\n",
    "        # Print the error message from stderr\n",
    "        print(result.stderr.decode('utf-8'))\n"
   ]
  },
  {
   "cell_type": "markdown",
   "id": "eb6d9495-a55a-42a7-a202-dc5f4d05a092",
   "metadata": {},
   "source": [
    "## tvnEnv0006_genAna"
   ]
  },
  {
   "cell_type": "code",
   "execution_count": 2,
   "id": "eac4c0cc-2a51-418f-8fd4-ef67ce25203b",
   "metadata": {},
   "outputs": [
    {
     "name": "stdout",
     "output_type": "stream",
     "text": [
      "Environment tvnEnv0006_genAna exported successfully to tvnEnv0006_genAna.yml.\n"
     ]
    }
   ],
   "source": [
    "import subprocess\n",
    "\n",
    "# List of environments you want to export\n",
    "environments = [\n",
    "                \"tvnEnv0006_genAna\"\n",
    "               ]\n",
    "\n",
    "for env_name in environments:\n",
    "    # Filename for the exported environment\n",
    "    filename = f\"{env_name}.yml\"\n",
    "    \n",
    "    # Command to export the environment without activating it\n",
    "    command = [\"conda\", \"env\", \"export\", \"--name\", env_name, \"--file\", filename]\n",
    "    \n",
    "    # Execute the command\n",
    "    result = subprocess.run(command, stdout=subprocess.PIPE, stderr=subprocess.PIPE)\n",
    "    \n",
    "    # Check if the command was executed successfully\n",
    "    if result.returncode == 0:\n",
    "        print(f\"Environment {env_name} exported successfully to {filename}.\")\n",
    "    else:\n",
    "        print(f\"Error exporting environment {env_name}:\")\n",
    "        # Print the error message from stderr\n",
    "        print(result.stderr.decode('utf-8'))\n"
   ]
  },
  {
   "cell_type": "markdown",
   "id": "6735dfe4-c5b6-4a06-acf2-14e415a797e6",
   "metadata": {},
   "source": [
    "## tvnEnv0007_dataMana_plot"
   ]
  },
  {
   "cell_type": "code",
   "execution_count": 1,
   "id": "efb7edc9-1c5c-4d37-8989-de5ad2fa47ba",
   "metadata": {},
   "outputs": [
    {
     "name": "stdout",
     "output_type": "stream",
     "text": [
      "Environment tvnEnv0007_dataMana_plot exported successfully to tvnEnv0007_dataMana_plot.yml.\n"
     ]
    }
   ],
   "source": [
    "import subprocess\n",
    "\n",
    "# List of environments you want to export\n",
    "environments = [\n",
    "                \"tvnEnv0007_dataMana_plot\"\n",
    "               ]\n",
    "\n",
    "for env_name in environments:\n",
    "    # Filename for the exported environment\n",
    "    filename = f\"{env_name}.yml\"\n",
    "    \n",
    "    # Command to export the environment without activating it\n",
    "    command = [\"conda\", \"env\", \"export\", \"--name\", env_name, \"--file\", filename]\n",
    "    \n",
    "    # Execute the command\n",
    "    result = subprocess.run(command, stdout=subprocess.PIPE, stderr=subprocess.PIPE)\n",
    "    \n",
    "    # Check if the command was executed successfully\n",
    "    if result.returncode == 0:\n",
    "        print(f\"Environment {env_name} exported successfully to {filename}.\")\n",
    "    else:\n",
    "        print(f\"Error exporting environment {env_name}:\")\n",
    "        # Print the error message from stderr\n",
    "        print(result.stderr.decode('utf-8'))\n"
   ]
  },
  {
   "cell_type": "markdown",
   "id": "faed63a4-dedd-409a-a392-2a9680625669",
   "metadata": {},
   "source": [
    "# description"
   ]
  },
  {
   "cell_type": "code",
   "execution_count": 6,
   "id": "7f8dd0fb-f4f6-4c04-9868-28a79ac84783",
   "metadata": {
    "tags": []
   },
   "outputs": [
    {
     "name": "stdout",
     "output_type": "stream",
     "text": [
      "CSV file 'environment_info.csv' has been created successfully!\n"
     ]
    }
   ],
   "source": [
    "import csv\n",
    "\n",
    "dictionary = {\n",
    "    'prolig_0001': \"protein-ligand interaction using NeuralPlexer\",\n",
    "    'tvnEnv0002_modeller': \"homologous modelling with Modeller\",\n",
    "    \"tvnEnv0003_colabfold\": \"colabfold\",\n",
    "    \"tvnEnv0004_rosettaFoldAa\": \"RoseTTAFold All-atom\",\n",
    "    \"tvnEnv0005_cobra\": \"COBRApy metabolic modelling\",\n",
    "    \"tvnEnv0006_genAna\": \"genetic analysis: normal things\",\n",
    "    \"tvnEnv0007_dataMana_plot\": \"DATA MANAGEMENT AND PLOTTING\"\n",
    "}\n",
    "\n",
    "# Define CSV file path\n",
    "csv_file = 'environment_info.csv'\n",
    "\n",
    "# Define CSV headers\n",
    "headers = ['env_name', 'description']\n",
    "\n",
    "# Write data to CSV\n",
    "with open(csv_file, 'w', newline='') as file:\n",
    "    writer = csv.DictWriter(file, fieldnames=headers)\n",
    "    \n",
    "    # Write headers\n",
    "    writer.writeheader()\n",
    "    \n",
    "    # Write dictionary values as rows\n",
    "    for env_name, description in dictionary.items():\n",
    "        writer.writerow({'env_name': env_name, 'description': description})\n",
    "\n",
    "print(f\"CSV file '{csv_file}' has been created successfully!\")\n"
   ]
  },
  {
   "cell_type": "code",
   "execution_count": null,
   "id": "b6a5f316-92cb-4fc4-897a-4ce2fde7c550",
   "metadata": {},
   "outputs": [],
   "source": []
  }
 ],
 "metadata": {
  "environment": {
   "kernel": "conda-root-py",
   "name": "workbench-notebooks.m119",
   "type": "gcloud",
   "uri": "us-docker.pkg.dev/deeplearning-platform-release/gcr.io/workbench-notebooks:m119"
  },
  "kernelspec": {
   "display_name": "Python 3 (ipykernel)",
   "language": "python",
   "name": "python3"
  },
  "language_info": {
   "codemirror_mode": {
    "name": "ipython",
    "version": 3
   },
   "file_extension": ".py",
   "mimetype": "text/x-python",
   "name": "python",
   "nbconvert_exporter": "python",
   "pygments_lexer": "ipython3",
   "version": "3.12.3"
  }
 },
 "nbformat": 4,
 "nbformat_minor": 5
}
