{
 "cells": [
  {
   "cell_type": "code",
   "execution_count": 1,
   "id": "5aef72b6-3030-4204-b072-2840cc1ece19",
   "metadata": {},
   "outputs": [
    {
     "name": "stdout",
     "output_type": "stream",
     "text": [
      "FASTA file 'sequence.fasta' has been created.\n"
     ]
    }
   ],
   "source": [
    "# Define the sequence and the FASTA header\n",
    "sequence = \"MALKSLVLLSLLVLVLLLVRVQPSLGKETAAAKFERQHMDSSTSAASSSNYCNQMMKSRNLTKDRCKPVNTFVHESLADVQAVCSQKNVACKNGQTNCYQSYSTMSITDCRETGSSKYPNCAYKTTQANKHIIVACEGNPYVPVHFDASV\"\n",
    "header = \">test\"\n",
    "\n",
    "# Define the file name\n",
    "file_name = \"sequence.fasta\"\n",
    "\n",
    "# Write the header and sequence to the file\n",
    "with open(file_name, \"w\") as file:\n",
    "    file.write(f\"{header}\\n\")\n",
    "    file.write(f\"{sequence}\\n\")\n",
    "\n",
    "print(f\"FASTA file '{file_name}' has been created.\")\n"
   ]
  }
 ],
 "metadata": {
  "kernelspec": {
   "display_name": "Python 3 (ipykernel)",
   "language": "python",
   "name": "python3"
  },
  "language_info": {
   "codemirror_mode": {
    "name": "ipython",
    "version": 3
   },
   "file_extension": ".py",
   "mimetype": "text/x-python",
   "name": "python",
   "nbconvert_exporter": "python",
   "pygments_lexer": "ipython3",
   "version": "3.10.14"
  }
 },
 "nbformat": 4,
 "nbformat_minor": 5
}
