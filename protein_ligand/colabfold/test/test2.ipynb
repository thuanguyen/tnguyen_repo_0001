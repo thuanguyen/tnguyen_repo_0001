{
 "cells": [
  {
   "cell_type": "code",
   "execution_count": 1,
   "id": "f1db71b9-93b0-44b5-8529-4fa63cc0e20a",
   "metadata": {
    "execution": {
     "iopub.execute_input": "2024-04-09T16:05:41.831320Z",
     "iopub.status.busy": "2024-04-09T16:05:41.829839Z",
     "iopub.status.idle": "2024-04-09T16:05:58.274377Z",
     "shell.execute_reply": "2024-04-09T16:05:58.272188Z"
    }
   },
   "outputs": [
    {
     "name": "stderr",
     "output_type": "stream",
     "text": [
      "2024-04-09 12:05:44.315872: I tensorflow/core/platform/cpu_feature_guard.cc:182] This TensorFlow binary is optimized to use available CPU instructions in performance-critical operations.\n",
      "To enable the following instructions: SSE4.1 SSE4.2 AVX AVX2 AVX512F FMA, in other operations, rebuild TensorFlow with the appropriate compiler flags.\n"
     ]
    },
    {
     "name": "stdout",
     "output_type": "stream",
     "text": [
      "TensorFlow cannot access a GPU. If you have a GPU and expect TensorFlow to use it, ensure CUDA is installed and configured correctly.\n"
     ]
    }
   ],
   "source": [
    "import tensorflow as tf\n",
    "\n",
    "# Check if TensorFlow can access a GPU\n",
    "if tf.config.list_physical_devices('GPU'):\n",
    "    print(\"TensorFlow can access a GPU, indicating that CUDA is installed and configured correctly.\")\n",
    "else:\n",
    "    print(\"TensorFlow cannot access a GPU. If you have a GPU and expect TensorFlow to use it, ensure CUDA is installed and configured correctly.\")\n"
   ]
  }
 ],
 "metadata": {
  "kernelspec": {
   "display_name": "Python 3 (ipykernel)",
   "language": "python",
   "name": "python3"
  },
  "language_info": {
   "codemirror_mode": {
    "name": "ipython",
    "version": 3
   },
   "file_extension": ".py",
   "mimetype": "text/x-python",
   "name": "python",
   "nbconvert_exporter": "python",
   "pygments_lexer": "ipython3",
   "version": "3.10.14"
  }
 },
 "nbformat": 4,
 "nbformat_minor": 5
}
