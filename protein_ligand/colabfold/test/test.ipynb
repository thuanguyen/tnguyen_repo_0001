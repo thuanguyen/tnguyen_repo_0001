{
 "cells": [
  {
   "cell_type": "code",
   "execution_count": 2,
   "id": "2546aa3f-71ca-4b72-91d6-e807f87ee3c9",
   "metadata": {
    "tags": []
   },
   "outputs": [
    {
     "name": "stdout",
     "output_type": "stream",
     "text": [
      "# conda environments:\n",
      "#\n",
      "base                  *  /usr/local/usrapps/probioticengring/tvnguyen/conda/envs/tvnBase\n",
      "tvnEnv0003_colabfold     /usr/local/usrapps/probioticengring/tvnguyen/conda/envs/tvnBase/envs/tvnEnv0003_colabfold\n",
      "                         /usr/local/usrapps/probioticengring/tvnguyen/localcolabfold/colabfold-conda\n",
      "                         /usr/local/usrapps/probioticengring/tvnguyen/localcolabfold/conda\n",
      "\n",
      "/gpfs_common/share02/probioticengring/tvnguye4/google_cloud/protein_ligand/colabfold/test\n"
     ]
    }
   ],
   "source": [
    "%%bash\n",
    "conda env list\n",
    "pwd"
   ]
  },
  {
   "cell_type": "markdown",
   "id": "2000a796-c981-4922-830e-58fa5df3a3c9",
   "metadata": {
    "tags": []
   },
   "source": [
    "# introduction\n",
    "- [alphafold](https://github.com/google-deepmind/alphafold)\n",
    "- [colabfold-git](https://github.com/sokrypton/ColabFold?tab=readme-ov-file)\n",
    "- [colabfold-conda](https://anaconda.org/bioconda/colabfold)\n",
    "- [localcolabfold](https://github.com/YoshitakaMo/localcolabfold)"
   ]
  },
  {
   "cell_type": "markdown",
   "id": "4bc0bb79-b97f-41e1-bca1-02b3be4eb95c",
   "metadata": {},
   "source": [
    "# check"
   ]
  },
  {
   "cell_type": "code",
   "execution_count": 1,
   "id": "bb69ad0f-02ae-445e-b98d-5a1cd1c29de5",
   "metadata": {
    "tags": []
   },
   "outputs": [],
   "source": [
    "display_images = True #@param {type:\"boolean\"}\n",
    "\n",
    "import sys\n",
    "import warnings\n",
    "warnings.simplefilter(action='ignore', category=FutureWarning)\n",
    "from Bio import BiopythonDeprecationWarning\n",
    "warnings.simplefilter(action='ignore', category=BiopythonDeprecationWarning)\n",
    "from pathlib import Path\n",
    "from colabfold.download import download_alphafold_params, default_data_dir\n",
    "from colabfold.utils import setup_logging\n",
    "from colabfold.batch import get_queries, run, set_model_type\n",
    "from colabfold.plot import plot_msa_v2\n",
    "\n",
    "import os\n",
    "import numpy as np"
   ]
  },
  {
   "cell_type": "markdown",
   "id": "9a9ba8e4-cdfa-4a34-9e90-856786bd7706",
   "metadata": {},
   "source": [
    "# input sequence"
   ]
  },
  {
   "cell_type": "code",
   "execution_count": 2,
   "id": "5e67bc33-c3f1-4c34-954c-9a18d19b23bd",
   "metadata": {
    "tags": []
   },
   "outputs": [],
   "source": [
    "test = \"MALKSLVLLSLLVLVLLLVRVQPSLGKETAAAKFERQHMDSSTSAASSSNYCNQMMKSRNLTKDRCKPVNTFVHESLADVQAVCSQKNVACKNGQTNCYQSYSTMSITDCRETGSSKYPNCAYKTTQANKHIIVACEGNPYVPVHFDASV\""
   ]
  },
  {
   "cell_type": "code",
   "execution_count": 3,
   "id": "44316fa3-00b2-4305-97ea-98b16e55ecfa",
   "metadata": {
    "tags": []
   },
   "outputs": [
    {
     "name": "stdout",
     "output_type": "stream",
     "text": [
      "jobname: test_89f1c\n",
      "sequence: MALKSLVLLSLLVLVLLLVRVQPSLGKETAAAKFERQHMDSSTSAASSSNYCNQMMKSRNLTKDRCKPVNTFVHESLADVQAVCSQKNVACKNGQTNCYQSYSTMSITDCRETGSSKYPNCAYKTTQANKHIIVACEGNPYVPVHFDASV\n",
      "length: 150\n"
     ]
    }
   ],
   "source": [
    "import os\n",
    "import re\n",
    "import hashlib\n",
    "import sys\n",
    "\n",
    "from sys import version_info\n",
    "python_version = f\"{version_info.major}.{version_info.minor}\"\n",
    "\n",
    "def add_hash(x, y):\n",
    "    return x + \"_\" + hashlib.sha1(y.encode()).hexdigest()[:5]\n",
    "\n",
    "# Input your protein sequence here\n",
    "query_sequence = test\n",
    "# Use `:` to specify inter-protein chainbreaks for modeling complexes (supports homo- and hetero-oligomers). For example, \"PI...SK:PI...SK\" for a homodimer\n",
    "jobname = 'test'  # Name of your job\n",
    "num_relax = 0  # Number of models to use (0, 1, 5)\n",
    "template_mode = \"none\"  # Template mode (\"none\", \"pdb100\", \"custom\")\n",
    "\n",
    "use_amber = num_relax > 0\n",
    "\n",
    "# Remove whitespaces\n",
    "query_sequence = \"\".join(query_sequence.split())\n",
    "\n",
    "basejobname = \"\".join(jobname.split())\n",
    "basejobname = re.sub(r'\\W+', '', basejobname)\n",
    "jobname = add_hash(basejobname, query_sequence)\n",
    "\n",
    "# Function to check if a directory exists\n",
    "def check(folder):\n",
    "    return not os.path.exists(folder)\n",
    "\n",
    "# Check if directory with jobname exists, create a new directory if it does not\n",
    "if not check(jobname):\n",
    "    n = 0\n",
    "    while not check(f\"{jobname}_{n}\"):\n",
    "        n += 1\n",
    "    jobname = f\"{jobname}_{n}\"\n",
    "\n",
    "# Make directory to save results\n",
    "os.makedirs(jobname, exist_ok=True)\n",
    "\n",
    "# Save queries\n",
    "queries_path = os.path.join(jobname, f\"{jobname}.csv\")\n",
    "with open(queries_path, \"w\") as text_file:\n",
    "    text_file.write(f\"id,sequence\\n{jobname},{query_sequence}\")\n",
    "\n",
    "use_templates = False\n",
    "custom_template_path = None\n",
    "\n",
    "if template_mode == \"pdb100\":\n",
    "    use_templates = True\n",
    "    # Here, you would need to implement your logic to search for templates in pdb100.\n",
    "elif template_mode == \"custom\":\n",
    "    custom_template_path = os.path.join(jobname, \"template\")\n",
    "    os.makedirs(custom_template_path, exist_ok=True)\n",
    "    # Implement your custom template handling logic here, such as prompting the user to place template files in the specified directory.\n",
    "    use_templates = True\n",
    "else:\n",
    "    custom_template_path = None\n",
    "    use_templates = False\n",
    "\n",
    "print(\"jobname:\", jobname)\n",
    "print(\"sequence:\", query_sequence)\n",
    "print(\"length:\", len(query_sequence.replace(\":\", \"\")))"
   ]
  },
  {
   "cell_type": "markdown",
   "id": "5f2efb66-b3f6-4fe2-998f-12044347d4d8",
   "metadata": {},
   "source": [
    "# msa option"
   ]
  },
  {
   "cell_type": "code",
   "execution_count": 4,
   "id": "3b0c902c-3e78-47da-abf9-3dd8984ca13c",
   "metadata": {
    "tags": []
   },
   "outputs": [
    {
     "name": "stdout",
     "output_type": "stream",
     "text": [
      "MSA file prepared at: test_89f1c/test_89f1c.a3m\n"
     ]
    }
   ],
   "source": [
    "import os\n",
    "import sys\n",
    "\n",
    "msa_mode = \"mmseqs2_uniref_env\"  # Options: \"mmseqs2_uniref_env\", \"mmseqs2_uniref\",\"single_sequence\",\"custom\"\n",
    "pair_mode = \"unpaired_paired\"  # Options: \"unpaired_paired\", \"paired\", \"unpaired\"\n",
    "\n",
    "# Decide which a3m to use\n",
    "if \"mmseqs2\" in msa_mode:\n",
    "    a3m_file = os.path.join(jobname, f\"{jobname}.a3m\")\n",
    "\n",
    "elif msa_mode == \"custom\":\n",
    "    # For custom MSA, prompt user to specify the file path\n",
    "    custom_msa_path = input(\"Enter the path to your custom MSA file: \")\n",
    "    a3m_file = os.path.join(jobname, f\"{jobname}.custom.a3m\")\n",
    "    \n",
    "    if not os.path.isfile(custom_msa_path):\n",
    "        print(f\"File not found: {custom_msa_path}\")\n",
    "        sys.exit(1)\n",
    "    \n",
    "    # Process the custom MSA file if necessary\n",
    "    # Assuming the file needs to be copied or moved to the job directory\n",
    "    os.rename(custom_msa_path, a3m_file)\n",
    "    print(f\"Custom MSA file moved to: {a3m_file}\")\n",
    "\n",
    "else:\n",
    "    # For single sequence mode, create an a3m file with the query sequence\n",
    "    a3m_file = os.path.join(jobname, f\"{jobname}.single_sequence.a3m\")\n",
    "    with open(a3m_file, \"w\") as text_file:\n",
    "        text_file.write(f\">1\\n{query_sequence}\")\n",
    "\n",
    "# Additional logic here based on the mode and further processing\n",
    "\n",
    "print(f\"MSA file prepared at: {a3m_file}\")"
   ]
  },
  {
   "cell_type": "markdown",
   "id": "34f463cb-f6c6-4673-a8c5-59d799ace39d",
   "metadata": {},
   "source": [
    "# advanced option"
   ]
  },
  {
   "cell_type": "code",
   "execution_count": 6,
   "id": "da6e5632-2ebd-4638-897f-a9510128e6fd",
   "metadata": {
    "tags": []
   },
   "outputs": [
    {
     "name": "stdout",
     "output_type": "stream",
     "text": [
      "Model type: alphafold2_ptm\n",
      "Number of recycles: 3\n",
      "Recycle early stop tolerance: 0.0\n",
      "Relax max iterations: 200\n",
      "Pairing strategy: greedy\n",
      "Max MSA settings: None\n",
      "Number of seeds: 1\n",
      "Use dropout: False\n",
      "Save all intermediate results: False\n",
      "Save recycles: False\n",
      "DPI for image resolution: 200\n"
     ]
    }
   ],
   "source": [
    "# Advanced settings\n",
    "model_type = \"auto\"  # Options: \"auto\", \"alphafold2_ptm\", \"alphafold2_multimer_v1\", \"alphafold2_multimer_v2\", \"alphafold2_multimer_v3\", \"deepfold_v1\"\n",
    "num_recycles = \"3\"  # Options: \"auto\", \"0\", \"1\", \"3\", \"6\", \"12\", \"24\", \"48\"\n",
    "recycle_early_stop_tolerance = \"auto\"  # Options: \"auto\", \"0.0\", \"0.5\", \"1.0\"\n",
    "relax_max_iterations = 200  # Options: 0, 200, 2000\n",
    "pairing_strategy = \"greedy\"  # Options: \"greedy\", \"complete\"\n",
    "max_msa = \"auto\"  # Options: \"auto\", specific limits like \"512:1024\"\n",
    "num_seeds = 1  # Options: 1, 2, 4, 8, 16\n",
    "use_dropout = False  # Options: True, False\n",
    "save_all = False  # Options: True, False\n",
    "save_recycles = False  # Options: True, False\n",
    "dpi = 200  # Image resolution for output\n",
    "\n",
    "# Parse and set the options based on the user input\n",
    "num_recycles = None if num_recycles == \"auto\" else int(num_recycles)\n",
    "recycle_early_stop_tolerance = None if recycle_early_stop_tolerance == \"auto\" else float(recycle_early_stop_tolerance)\n",
    "if max_msa == \"auto\":\n",
    "    max_msa = None\n",
    "\n",
    "# Handle model type and recycles based on user selection\n",
    "if model_type == \"auto\":\n",
    "    model_type = \"alphafold2_ptm\" if query_sequence.count(\":\") == 0 else \"alphafold2_multimer_v3\"\n",
    "    num_recycles = 20 if model_type == \"alphafold2_multimer_v3\" else 3\n",
    "    recycle_early_stop_tolerance = 0.5 if model_type == \"alphafold2_multimer_v3\" else 0.0\n",
    "\n",
    "# Print the settings for confirmation\n",
    "print(f\"Model type: {model_type}\")\n",
    "print(f\"Number of recycles: {num_recycles}\")\n",
    "print(f\"Recycle early stop tolerance: {recycle_early_stop_tolerance}\")\n",
    "print(f\"Relax max iterations: {relax_max_iterations}\")\n",
    "print(f\"Pairing strategy: {pairing_strategy}\")\n",
    "print(f\"Max MSA settings: {max_msa}\")\n",
    "print(f\"Number of seeds: {num_seeds}\")\n",
    "print(f\"Use dropout: {use_dropout}\")\n",
    "print(f\"Save all intermediate results: {save_all}\")\n",
    "print(f\"Save recycles: {save_recycles}\")\n",
    "print(f\"DPI for image resolution: {dpi}\")\n",
    "\n",
    "# Replace Google Drive saving functionality with local file saving\n",
    "if save_all or save_recycles:\n",
    "    # Implement local saving logic here\n",
    "    print(\"Note: Saving functionality needs to be implemented for local environment.\")\n"
   ]
  },
  {
   "cell_type": "markdown",
   "id": "3c9b72ff-fd3d-45da-ae78-0a6f272f0022",
   "metadata": {},
   "source": [
    "# Run Prediction"
   ]
  },
  {
   "cell_type": "code",
   "execution_count": 7,
   "id": "835a6063-aa17-471b-9096-e3d4c4b29adc",
   "metadata": {
    "tags": []
   },
   "outputs": [
    {
     "name": "stdout",
     "output_type": "stream",
     "text": [
      "2024-03-31 14:56:38,473 Unable to initialize backend 'cuda': \n",
      "2024-03-31 14:56:38,477 Unable to initialize backend 'rocm': module 'jaxlib.xla_extension' has no attribute 'GpuAllocatorConfig'\n",
      "2024-03-31 14:56:38,481 Unable to initialize backend 'tpu': INTERNAL: Failed to open libtpu.so: libtpu.so: cannot open shared object file: No such file or directory\n",
      "2024-03-31 14:56:38,492 WARNING: no GPU detected, will be using CPU\n",
      "2024-03-31 14:56:46,985 Found 6 citations for tools or databases\n",
      "2024-03-31 14:56:46,986 Query 1/1: test_bf18f (length 10)\n"
     ]
    },
    {
     "name": "stderr",
     "output_type": "stream",
     "text": [
      "COMPLETE: 100%|████████████████████████████████████████████████████████████████████████| 150/150 [elapsed: 00:01 remaining: 00:00]\n"
     ]
    },
    {
     "data": {
      "image/png": "[encoded data removed]",
      "text/plain": [
       "<Figure size 800x500 with 2 Axes>"
      ]
     },
     "metadata": {},
     "output_type": "display_data"
    },
    {
     "name": "stdout",
     "output_type": "stream",
     "text": [
      "2024-03-31 14:56:49,764 Setting max_seq=2, max_extra_seq=1\n",
      "2024-03-31 14:57:27,666 Could not predict test_bf18f. Not Enough GPU memory? INVALID_ARGUMENT: Symbol main.8263 not found.\n",
      "2024-03-31 14:57:27,666 Done\n",
      "  adding: test_bf18f/ (stored 0%)\n",
      "  adding: test_bf18f/test_bf18f_env/ (stored 0%)\n",
      "  adding: test_bf18f/test_bf18f_env/bfd.mgnify30.metaeuk30.smag30.a3m (stored 0%)\n",
      "  adding: test_bf18f/test_bf18f_env/out.tar.gz (stored 0%)\n",
      "  adding: test_bf18f/test_bf18f_env/uniref.a3m (stored 0%)\n",
      "  adding: test_bf18f/test_bf18f_env/pdb70.m8 (stored 0%)\n",
      "  adding: test_bf18f/test_bf18f_env/msa.sh (deflated 74%)\n",
      "  adding: test_bf18f/test_bf18f.a3m (deflated 32%)\n",
      "  adding: test_bf18f/test_bf18f.csv (stored 0%)\n",
      "  adding: test_bf18f/cite.bibtex (deflated 52%)\n",
      "  adding: test_bf18f/test_bf18f_coverage.png (deflated 21%)\n",
      "  adding: test_bf18f/config.json (deflated 56%)\n",
      "  adding: test_bf18f/log.txt (deflated 45%)\n"
     ]
    },
    {
     "name": "stderr",
     "output_type": "stream",
     "text": [
      "2024-03-31 14:57:27.597176: E external/xla/xla/service/cpu/simple_orc_jit.cc:423] Unable to resolve runtime symbol: `__extendhfsf2'. Hint: if the symbol a custom call target, make sure you've registered it with the JIT using XLA_CPU_REGISTER_CUSTOM_CALL_TARGET.\n",
      "JIT session error: Symbols not found: [ __extendhfsf2 ]\n"
     ]
    },
    {
     "data": {
      "text/plain": [
       "0"
      ]
     },
     "execution_count": 7,
     "metadata": {},
     "output_type": "execute_result"
    }
   ],
   "source": [
    "display_images = True #@param {type:\"boolean\"}\n",
    "\n",
    "import sys\n",
    "import warnings\n",
    "warnings.simplefilter(action='ignore', category=FutureWarning)\n",
    "from Bio import BiopythonDeprecationWarning\n",
    "warnings.simplefilter(action='ignore', category=BiopythonDeprecationWarning)\n",
    "from pathlib import Path\n",
    "from colabfold.download import download_alphafold_params, default_data_dir\n",
    "from colabfold.utils import setup_logging\n",
    "from colabfold.batch import get_queries, run, set_model_type\n",
    "from colabfold.plot import plot_msa_v2\n",
    "\n",
    "import os\n",
    "import numpy as np\n",
    "try:\n",
    "  K80_chk = os.popen('srun -p gpu nvidia-smi | grep \"Tesla K80\" | wc -l').read()\n",
    "except:\n",
    "  K80_chk = \"0\"\n",
    "  pass\n",
    "if \"1\" in K80_chk:\n",
    "  print(\"WARNING: found GPU Tesla K80: limited to total length < 1000\")\n",
    "  if \"TF_FORCE_UNIFIED_MEMORY\" in os.environ:\n",
    "    del os.environ[\"TF_FORCE_UNIFIED_MEMORY\"]\n",
    "  if \"XLA_PYTHON_CLIENT_MEM_FRACTION\" in os.environ:\n",
    "    del os.environ[\"XLA_PYTHON_CLIENT_MEM_FRACTION\"]\n",
    "\n",
    "from colabfold.colabfold import plot_protein\n",
    "from pathlib import Path\n",
    "import matplotlib.pyplot as plt\n",
    "\n",
    "# For some reason we need that to get pdbfixer to import\n",
    "if use_amber and f\"/usr/local/lib/python{python_version}/site-packages/\" not in sys.path:\n",
    "    sys.path.insert(0, f\"/usr/local/lib/python{python_version}/site-packages/\")\n",
    "\n",
    "def input_features_callback(input_features):\n",
    "  if display_images:\n",
    "    plot_msa_v2(input_features)\n",
    "    plt.show()\n",
    "    plt.close()\n",
    "\n",
    "def prediction_callback(protein_obj, length,\n",
    "                        prediction_result, input_features, mode):\n",
    "  model_name, relaxed = mode\n",
    "  if not relaxed:\n",
    "    if display_images:\n",
    "      fig = plot_protein(protein_obj, Ls=length, dpi=150)\n",
    "      plt.show()\n",
    "      plt.close()\n",
    "\n",
    "result_dir = jobname\n",
    "log_filename = os.path.join(jobname,\"log.txt\")\n",
    "setup_logging(Path(log_filename))\n",
    "\n",
    "queries, is_complex = get_queries(queries_path)\n",
    "model_type = set_model_type(is_complex, model_type)\n",
    "\n",
    "if \"multimer\" in model_type and max_msa is not None:\n",
    "  use_cluster_profile = False\n",
    "else:\n",
    "  use_cluster_profile = True\n",
    "\n",
    "download_alphafold_params(model_type, Path(\".\"))\n",
    "results = run(\n",
    "    queries=queries,\n",
    "    result_dir=result_dir,\n",
    "    use_templates=use_templates,\n",
    "    custom_template_path=custom_template_path,\n",
    "    num_relax=num_relax,\n",
    "    msa_mode=msa_mode,\n",
    "    model_type=model_type,\n",
    "    num_models=5,\n",
    "    num_recycles=num_recycles,\n",
    "    relax_max_iterations=relax_max_iterations,\n",
    "    recycle_early_stop_tolerance=recycle_early_stop_tolerance,\n",
    "    num_seeds=num_seeds,\n",
    "    use_dropout=use_dropout,\n",
    "    model_order=[1,2,3,4,5],\n",
    "    is_complex=is_complex,\n",
    "    data_dir=Path(\".\"),\n",
    "    keep_existing_results=False,\n",
    "    rank_by=\"auto\",\n",
    "    pair_mode=pair_mode,\n",
    "    pairing_strategy=pairing_strategy,\n",
    "    stop_at_score=float(100),\n",
    "    prediction_callback=prediction_callback,\n",
    "    dpi=dpi,\n",
    "    zip_results=False,\n",
    "    save_all=save_all,\n",
    "    max_msa=max_msa,\n",
    "    use_cluster_profile=use_cluster_profile,\n",
    "    input_features_callback=input_features_callback,\n",
    "    save_recycles=save_recycles,\n",
    "    user_agent=\"colabfold/google-colab-main\",\n",
    ")\n",
    "results_zip = f\"{jobname}.result.zip\"\n",
    "os.system(f\"zip -r {results_zip} {jobname}\")"
   ]
  },
  {
   "cell_type": "markdown",
   "id": "fdbe1369-b10d-4ee6-b34f-444ade09a718",
   "metadata": {},
   "source": [
    "# display 3d structure"
   ]
  },
  {
   "cell_type": "code",
   "execution_count": 8,
   "id": "884bc168-be25-438e-ae02-706c09000a00",
   "metadata": {
    "tags": []
   },
   "outputs": [
    {
     "ename": "IndexError",
     "evalue": "list index out of range",
     "output_type": "error",
     "traceback": [
      "\u001b[0;31m---------------------------------------------------------------------------\u001b[0m",
      "\u001b[0;31mIndexError\u001b[0m                                Traceback (most recent call last)",
      "Cell \u001b[0;32mIn[8], line 12\u001b[0m\n\u001b[1;32m      9\u001b[0m show_sidechains \u001b[38;5;241m=\u001b[39m \u001b[38;5;28;01mFalse\u001b[39;00m \u001b[38;5;66;03m#@param {type:\"boolean\"}\u001b[39;00m\n\u001b[1;32m     10\u001b[0m show_mainchains \u001b[38;5;241m=\u001b[39m \u001b[38;5;28;01mFalse\u001b[39;00m \u001b[38;5;66;03m#@param {type:\"boolean\"}\u001b[39;00m\n\u001b[0;32m---> 12\u001b[0m tag \u001b[38;5;241m=\u001b[39m \u001b[43mresults\u001b[49m\u001b[43m[\u001b[49m\u001b[38;5;124;43m\"\u001b[39;49m\u001b[38;5;124;43mrank\u001b[39;49m\u001b[38;5;124;43m\"\u001b[39;49m\u001b[43m]\u001b[49m\u001b[43m[\u001b[49m\u001b[38;5;241;43m0\u001b[39;49m\u001b[43m]\u001b[49m[rank_num \u001b[38;5;241m-\u001b[39m \u001b[38;5;241m1\u001b[39m]\n\u001b[1;32m     13\u001b[0m jobname_prefix \u001b[38;5;241m=\u001b[39m \u001b[38;5;124m\"\u001b[39m\u001b[38;5;124m.custom\u001b[39m\u001b[38;5;124m\"\u001b[39m \u001b[38;5;28;01mif\u001b[39;00m msa_mode \u001b[38;5;241m==\u001b[39m \u001b[38;5;124m\"\u001b[39m\u001b[38;5;124mcustom\u001b[39m\u001b[38;5;124m\"\u001b[39m \u001b[38;5;28;01melse\u001b[39;00m \u001b[38;5;124m\"\u001b[39m\u001b[38;5;124m\"\u001b[39m\n\u001b[1;32m     14\u001b[0m pdb_filename \u001b[38;5;241m=\u001b[39m \u001b[38;5;124mf\u001b[39m\u001b[38;5;124m\"\u001b[39m\u001b[38;5;132;01m{\u001b[39;00mjobname\u001b[38;5;132;01m}\u001b[39;00m\u001b[38;5;124m/\u001b[39m\u001b[38;5;132;01m{\u001b[39;00mjobname\u001b[38;5;132;01m}\u001b[39;00m\u001b[38;5;132;01m{\u001b[39;00mjobname_prefix\u001b[38;5;132;01m}\u001b[39;00m\u001b[38;5;124m_unrelaxed_\u001b[39m\u001b[38;5;132;01m{\u001b[39;00mtag\u001b[38;5;132;01m}\u001b[39;00m\u001b[38;5;124m.pdb\u001b[39m\u001b[38;5;124m\"\u001b[39m\n",
      "\u001b[0;31mIndexError\u001b[0m: list index out of range"
     ]
    }
   ],
   "source": [
    "#@title Display 3D structure {run: \"auto\"}\n",
    "import py3Dmol\n",
    "import glob\n",
    "import matplotlib.pyplot as plt\n",
    "from colabfold.colabfold import plot_plddt_legend\n",
    "from colabfold.colabfold import pymol_color_list, alphabet_list\n",
    "rank_num = 1 #@param [\"1\", \"2\", \"3\", \"4\", \"5\"] {type:\"raw\"}\n",
    "color = \"lDDT\" #@param [\"chain\", \"lDDT\", \"rainbow\"]\n",
    "show_sidechains = False #@param {type:\"boolean\"}\n",
    "show_mainchains = False #@param {type:\"boolean\"}\n",
    "\n",
    "tag = results[\"rank\"][0][rank_num - 1]\n",
    "jobname_prefix = \".custom\" if msa_mode == \"custom\" else \"\"\n",
    "pdb_filename = f\"{jobname}/{jobname}{jobname_prefix}_unrelaxed_{tag}.pdb\"\n",
    "pdb_file = glob.glob(pdb_filename)\n",
    "\n",
    "def show_pdb(rank_num=1, show_sidechains=False, show_mainchains=False, color=\"lDDT\"):\n",
    "  model_name = f\"rank_{rank_num}\"\n",
    "  view = py3Dmol.view(js='https://3dmol.org/build/3Dmol.js',)\n",
    "  view.addModel(open(pdb_file[0],'r').read(),'pdb')\n",
    "\n",
    "  if color == \"lDDT\":\n",
    "    view.setStyle({'cartoon': {'colorscheme': {'prop':'b','gradient': 'roygb','min':50,'max':90}}})\n",
    "  elif color == \"rainbow\":\n",
    "    view.setStyle({'cartoon': {'color':'spectrum'}})\n",
    "  elif color == \"chain\":\n",
    "    chains = len(queries[0][1]) + 1 if is_complex else 1\n",
    "    for n,chain,color in zip(range(chains),alphabet_list,pymol_color_list):\n",
    "       view.setStyle({'chain':chain},{'cartoon': {'color':color}})\n",
    "\n",
    "  if show_sidechains:\n",
    "    BB = ['C','O','N']\n",
    "    view.addStyle({'and':[{'resn':[\"GLY\",\"PRO\"],'invert':True},{'atom':BB,'invert':True}]},\n",
    "                        {'stick':{'colorscheme':f\"WhiteCarbon\",'radius':0.3}})\n",
    "    view.addStyle({'and':[{'resn':\"GLY\"},{'atom':'CA'}]},\n",
    "                        {'sphere':{'colorscheme':f\"WhiteCarbon\",'radius':0.3}})\n",
    "    view.addStyle({'and':[{'resn':\"PRO\"},{'atom':['C','O'],'invert':True}]},\n",
    "                        {'stick':{'colorscheme':f\"WhiteCarbon\",'radius':0.3}})\n",
    "  if show_mainchains:\n",
    "    BB = ['C','O','N','CA']\n",
    "    view.addStyle({'atom':BB},{'stick':{'colorscheme':f\"WhiteCarbon\",'radius':0.3}})\n",
    "\n",
    "  view.zoomTo()\n",
    "  return view\n",
    "\n",
    "show_pdb(rank_num, show_sidechains, show_mainchains, color).show()\n",
    "if color == \"lDDT\":\n",
    "  plot_plddt_legend().show()"
   ]
  },
  {
   "cell_type": "markdown",
   "id": "d214771e-a74a-446c-8677-4088f56df7a3",
   "metadata": {},
   "source": [
    "# plots"
   ]
  },
  {
   "cell_type": "code",
   "execution_count": null,
   "id": "fdcc8e23-d965-4faf-8999-2a08f77a9f36",
   "metadata": {},
   "outputs": [],
   "source": [
    "#@title Plots {run: \"auto\"}\n",
    "from IPython.display import display, HTML\n",
    "import base64\n",
    "from html import escape\n",
    "\n",
    "# see: https://stackoverflow.com/a/53688522\n",
    "def image_to_data_url(filename):\n",
    "  ext = filename.split('.')[-1]\n",
    "  prefix = f'data:image/{ext};base64,'\n",
    "  with open(filename, 'rb') as f:\n",
    "    img = f.read()\n",
    "  return prefix + base64.b64encode(img).decode('utf-8')\n",
    "\n",
    "pae = \"\"\n",
    "pae_file = os.path.join(jobname,f\"{jobname}{jobname_prefix}_pae.png\")\n",
    "if os.path.isfile(pae_file):\n",
    "    pae = image_to_data_url(pae_file)\n",
    "cov = image_to_data_url(os.path.join(jobname,f\"{jobname}{jobname_prefix}_coverage.png\"))\n",
    "plddt = image_to_data_url(os.path.join(jobname,f\"{jobname}{jobname_prefix}_plddt.png\"))"
   ]
  }
 ],
 "metadata": {
  "environment": {
   "kernel": "conda-env-tvnEnv0003_colabfold-py",
   "name": "workbench-notebooks.m117",
   "type": "gcloud",
   "uri": "us-docker.pkg.dev/deeplearning-platform-release/gcr.io/workbench-notebooks:m117"
  },
  "kernelspec": {
   "display_name": "Python 3 (ipykernel)",
   "language": "python",
   "name": "python3"
  },
  "language_info": {
   "codemirror_mode": {
    "name": "ipython",
    "version": 3
   },
   "file_extension": ".py",
   "mimetype": "text/x-python",
   "name": "python",
   "nbconvert_exporter": "python",
   "pygments_lexer": "ipython3",
   "version": "3.10.14"
  }
 },
 "nbformat": 4,
 "nbformat_minor": 5
}
