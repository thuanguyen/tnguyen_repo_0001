{
 "cells": [
  {
   "cell_type": "code",
   "execution_count": 1,
   "id": "41753044-f23c-4e3d-a00f-1a8bd04dda0e",
   "metadata": {},
   "outputs": [
    {
     "name": "stdout",
     "output_type": "stream",
     "text": [
      "Singularity definition file created at: Singularity.def\n"
     ]
    }
   ],
   "source": [
    "# Define the contents of the Singularity definition file\n",
    "singularity_definition = \"\"\"\n",
    "Bootstrap: docker\n",
    "From: ubuntu:22.04\n",
    "\n",
    "%post\n",
    "    apt-get -y update\n",
    "    apt-get -y upgrade\n",
    "    # Install any additional packages you need here. For example:\n",
    "    apt-get -y install git vim\n",
    "\n",
    "%environment\n",
    "    export PATH=/usr/local/bin:$PATH\n",
    "    # Set any other environment variables you need\n",
    "\n",
    "%runscript\n",
    "    echo \"This is what happens when you run the container!\"\n",
    "\n",
    "%labels\n",
    "    Author \"Your Name\"\n",
    "    Version \"1.0\"\n",
    "\"\"\"\n",
    "\n",
    "# Specify the path for the new Singularity definition file\n",
    "file_path = \"Singularity.def\"\n",
    "\n",
    "# Write the definition to the file\n",
    "with open(file_path, \"w\") as file:\n",
    "    file.write(singularity_definition)\n",
    "\n",
    "print(f\"Singularity definition file created at: {file_path}\")\n"
   ]
  }
 ],
 "metadata": {
  "kernelspec": {
   "display_name": "Python 3 (ipykernel)",
   "language": "python",
   "name": "python3"
  },
  "language_info": {
   "codemirror_mode": {
    "name": "ipython",
    "version": 3
   },
   "file_extension": ".py",
   "mimetype": "text/x-python",
   "name": "python",
   "nbconvert_exporter": "python",
   "pygments_lexer": "ipython3",
   "version": "3.10.14"
  }
 },
 "nbformat": 4,
 "nbformat_minor": 5
}
